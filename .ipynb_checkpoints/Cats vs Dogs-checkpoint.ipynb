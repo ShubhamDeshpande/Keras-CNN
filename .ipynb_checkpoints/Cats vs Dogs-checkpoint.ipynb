{
 "cells": [
  {
   "cell_type": "code",
   "execution_count": 2,
   "metadata": {},
   "outputs": [
    {
     "name": "stderr",
     "output_type": "stream",
     "text": [
      "Using TensorFlow backend.\n"
     ]
    },
    {
     "name": "stdout",
     "output_type": "stream",
     "text": [
      "Found 37500 images belonging to 2 classes.\n",
      "Epoch 1/10\n",
      "300/300 [==============================] - 43s 144ms/step - loss: 0.6470 - acc: 0.6592\n",
      "Epoch 2/10\n",
      "300/300 [==============================] - 43s 142ms/step - loss: 0.6398 - acc: 0.6653\n",
      "Epoch 3/10\n",
      "300/300 [==============================] - 43s 143ms/step - loss: 0.6353 - acc: 0.6717\n",
      "Epoch 4/10\n",
      "300/300 [==============================] - 43s 144ms/step - loss: 0.6369 - acc: 0.6687\n",
      "Epoch 5/10\n",
      "300/300 [==============================] - 41s 137ms/step - loss: 0.6366 - acc: 0.6706\n",
      "Epoch 6/10\n",
      "300/300 [==============================] - 41s 136ms/step - loss: 0.6388 - acc: 0.6639\n",
      "Epoch 7/10\n",
      "300/300 [==============================] - 42s 140ms/step - loss: 0.6355 - acc: 0.6690\n",
      "Epoch 8/10\n",
      "300/300 [==============================] - 42s 139ms/step - loss: 0.6396 - acc: 0.6640\n",
      "Epoch 9/10\n",
      "300/300 [==============================] - 42s 140ms/step - loss: 0.6439 - acc: 0.6566\n",
      "Epoch 10/10\n",
      "300/300 [==============================] - 44s 145ms/step - loss: 0.6316 - acc: 0.6752\n"
     ]
    },
    {
     "data": {
      "text/plain": [
       "<keras.callbacks.History at 0x7f7c973d1d68>"
      ]
     },
     "execution_count": 2,
     "metadata": {},
     "output_type": "execute_result"
    }
   ],
   "source": [
    "from keras.models import Sequential\n",
    "from keras.layers import Conv2D\n",
    "from keras.layers import MaxPooling2D\n",
    "from keras.layers import Flatten\n",
    "from keras.layers import Dense\n",
    "from keras.preprocessing.image import ImageDataGenerator\n",
    "\n",
    "\n",
    "train_datagen= ImageDataGenerator(rescale = 1./255, shear_range =0.2, zoom_range=0.2,horizontal_flip = True)\n",
    "\n",
    "test_datagen=ImageDataGenerator(rescale=1./255)\n",
    "\n",
    "#initialising the CNN\n",
    "\n",
    "model = Sequential()\n",
    "# Convolution\n",
    "model.add(Conv2D(32,(3,3),input_shape = (50,50,3),activation='relu'))\n",
    "\n",
    "#Pooling\n",
    "model.add(MaxPooling2D(pool_size=(2,2)))\n",
    "\n",
    "# Second convolution layer\n",
    "model.add(Conv2D(32,(3,3),activation='relu'))\n",
    "model.add(MaxPooling2D(pool_size=(2,2)))\n",
    "\n",
    "#Flattening\n",
    "model.add(Flatten())\n",
    "\n",
    "#full connection\n",
    "model.add(Dense(units=128,activation='relu'))\n",
    "model.add(Dense(units=1,activation='sigmoid'))\n",
    "\n",
    "# Compiling the CNN\n",
    "model.compile(optimizer='adam',loss='binary_crossentropy',metrics=['accuracy'])\n",
    "\n",
    "\n",
    "\n",
    "training_set=train_datagen.flow_from_directory('training_data/',\n",
    "                                              target_size=(50,50),\n",
    "                                              batch_size=32,\n",
    "                                              class_mode='binary')\n",
    "\n",
    "model.fit_generator(training_set,steps_per_epoch=8000,epochs =25,validation_steps=2000)\n"
   ]
  },
  {
   "cell_type": "code",
   "execution_count": 9,
   "metadata": {},
   "outputs": [
    {
     "name": "stdout",
     "output_type": "stream",
     "text": [
      "[[ 0.99894387]]\n"
     ]
    }
   ],
   "source": [
    "import cv2\n",
    "model.compile(optimizer='adam',loss='binary_crossentropy',metrics=['accuracy'])\n",
    "img = cv2.imread('training_data/test/9.jpg')\n",
    "img = cv2.resize(img,(50,50))\n",
    "img = img.reshape(1,50,50,3)\n",
    "print(model.predict(img))"
   ]
  },
  {
   "cell_type": "code",
   "execution_count": null,
   "metadata": {},
   "outputs": [],
   "source": []
  },
  {
   "cell_type": "code",
   "execution_count": null,
   "metadata": {
    "collapsed": true
   },
   "outputs": [],
   "source": []
  },
  {
   "cell_type": "code",
   "execution_count": null,
   "metadata": {
    "collapsed": true
   },
   "outputs": [],
   "source": []
  },
  {
   "cell_type": "code",
   "execution_count": null,
   "metadata": {
    "collapsed": true
   },
   "outputs": [],
   "source": []
  }
 ],
 "metadata": {
  "kernelspec": {
   "display_name": "Python 3",
   "language": "python",
   "name": "python3"
  },
  "language_info": {
   "codemirror_mode": {
    "name": "ipython",
    "version": 3
   },
   "file_extension": ".py",
   "mimetype": "text/x-python",
   "name": "python",
   "nbconvert_exporter": "python",
   "pygments_lexer": "ipython3",
   "version": "3.5.4"
  }
 },
 "nbformat": 4,
 "nbformat_minor": 2
}
